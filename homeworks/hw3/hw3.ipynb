{
  "cells": [
    {
      "cell_type": "code",
      "execution_count": 18,
      "metadata": {
        "deletable": false,
        "editable": false,
        "id": "4leO5bvzr3ya",
        "nbgrader": {
          "grade": false,
          "grade_id": "cell-1be04a157d86c84b",
          "locked": true,
          "schema_version": 3,
          "solution": false
        },
        "vscode": {
          "languageId": "r"
        },
        "outputId": "4ee17120-6ade-4425-999b-a83f24f4efec",
        "colab": {
          "base_uri": "https://localhost:8080/"
        }
      },
      "outputs": [
        {
          "output_type": "stream",
          "name": "stderr",
          "text": [
            "Installing package into ‘/usr/local/lib/R/site-library’\n",
            "(as ‘lib’ is unspecified)\n",
            "\n",
            "Installing package into ‘/usr/local/lib/R/site-library’\n",
            "(as ‘lib’ is unspecified)\n",
            "\n",
            "Warning message in system(\"timedatectl\", intern = TRUE):\n",
            "“running command 'timedatectl' had status 1”\n",
            "── \u001b[1mAttaching packages\u001b[22m ─────────────────────────────────────── tidyverse 1.3.2 ──\n",
            "\u001b[32m✔\u001b[39m \u001b[34mggplot2\u001b[39m 3.4.0      \u001b[32m✔\u001b[39m \u001b[34mpurrr  \u001b[39m 1.0.1 \n",
            "\u001b[32m✔\u001b[39m \u001b[34mtibble \u001b[39m 3.1.8      \u001b[32m✔\u001b[39m \u001b[34mdplyr  \u001b[39m 1.0.10\n",
            "\u001b[32m✔\u001b[39m \u001b[34mtidyr  \u001b[39m 1.2.1      \u001b[32m✔\u001b[39m \u001b[34mstringr\u001b[39m 1.4.1 \n",
            "\u001b[32m✔\u001b[39m \u001b[34mreadr  \u001b[39m 2.1.3      \u001b[32m✔\u001b[39m \u001b[34mforcats\u001b[39m 0.5.2 \n",
            "── \u001b[1mConflicts\u001b[22m ────────────────────────────────────────── tidyverse_conflicts() ──\n",
            "\u001b[31m✖\u001b[39m \u001b[34mdplyr\u001b[39m::\u001b[32mfilter()\u001b[39m masks \u001b[34mstats\u001b[39m::filter()\n",
            "\u001b[31m✖\u001b[39m \u001b[34mdplyr\u001b[39m::\u001b[32mlag()\u001b[39m    masks \u001b[34mstats\u001b[39m::lag()\n"
          ]
        }
      ],
      "source": [
        "install.packages(\"tidyverse\")\n",
        "install.packages(\"nycflights13\")\n",
        "library(tidyverse)\n",
        "library(nycflights13)\n",
        "options(repr.plot.width=5, repr.plot.height=4)"
      ]
    },
    {
      "cell_type": "markdown",
      "metadata": {
        "deletable": false,
        "editable": false,
        "id": "8qK_sLRrr3yc",
        "nbgrader": {
          "grade": false,
          "grade_id": "cell-281caadd66986182",
          "locked": true,
          "schema_version": 3,
          "solution": false
        },
        "run_control": {
          "frozen": true
        }
      },
      "source": [
        "# STATS 306\n",
        "## Homework 3:  Advanced `dplyr` and tidy data\n",
        "\n",
        "For each problem, enter the R code in the cell marked \"YOUR SOLUTION HERE\"."
      ]
    },
    {
      "cell_type": "markdown",
      "metadata": {
        "deletable": false,
        "editable": false,
        "id": "631zEA_mr3yd",
        "nbgrader": {
          "grade": false,
          "grade_id": "cell-421557d86106e43b",
          "locked": true,
          "schema_version": 3,
          "solution": false
        },
        "run_control": {
          "frozen": true
        }
      },
      "source": [
        "## Problem 1: Why so delayed? (4 points)\n",
        "The following code adds a variable `week` to `flights`, such that `week==1` for the first seven days of the year, `week==2` for days 8-14, etc. (In the second half of the semester we will learn how to work with times and date data using the `lubridate` package.)"
      ]
    },
    {
      "cell_type": "code",
      "execution_count": 21,
      "metadata": {
        "id": "1ioDkDK7r3yd",
        "nbgrader": {
          "grade": false,
          "grade_id": "cell-88e1b70275693fee",
          "locked": true,
          "schema_version": 3,
          "solution": false
        },
        "vscode": {
          "languageId": "r"
        }
      },
      "outputs": [],
      "source": [
        "flights_week = mutate(flights, week=lubridate::week(time_hour))"
      ]
    },
    {
      "cell_type": "markdown",
      "metadata": {
        "deletable": false,
        "editable": false,
        "id": "EepM7rgjr3yd",
        "run_control": {
          "frozen": true
        }
      },
      "source": [
        "**(a)** Make a bar plot of the proportion of flights each week whose actual departure time is NOT missing. The x-axis of your plot should contain the weeks of the year, ranging from 1 to 52, and the y-axis of your plot should be a number between 0 and 1 showing the decimal proportion of flights that have a departure time. What sort of plot geometry (line, bar, point, histogram, etc.) do you think is appropriate for this kind of plot? Does anything about this plot jump out at you? What and why? *1 point*"
      ]
    },
    {
      "cell_type": "code",
      "execution_count": 22,
      "metadata": {
        "id": "kaVdMK0Zr3yd",
        "vscode": {
          "languageId": "r"
        },
        "outputId": "0d88700a-4349-40f8-ba83-5cf6b4846be8",
        "colab": {
          "base_uri": "https://localhost:8080/",
          "height": 257
        }
      },
      "outputs": [
        {
          "output_type": "display_data",
          "data": {
            "text/plain": [
              "plot without title"
            ],
            "image/png": "[encoded data removed]"
          },
          "metadata": {
            "image/png": {
              "width": 300,
              "height": 240
            }
          }
        }
      ],
      "source": [
        "# Your solution here\n",
        "\n",
        "\n",
        "\n",
        "\n",
        "flights_week|>\n",
        "  group_by(week)|>\n",
        "  summarize(Prop = sum(!is.na(dep_delay))/n())|>\n",
        "  ggplot(flights_week, mapping = aes(x = week, y = Prop))+\n",
        "  geom_bar(stat = \"identity\")\n",
        "  \n",
        "\n",
        "  \n"
      ]
    },
    {
      "cell_type": "markdown",
      "metadata": {
        "deletable": false,
        "editable": false,
        "id": "O63-jpF8r3ye",
        "run_control": {
          "frozen": true
        }
      },
      "source": [
        "**(b)** For the week with the highest fraction of missing departure times, generate a table which shows the proportion of missing departure times for each day of that week. Your table should have columns `year`, `month`, `day`, and `prop_miss_dep_time`. Sort your table in chronological order and store it in a variable called `table1b`. *1 point*"
      ]
    },
    {
      "cell_type": "code",
      "execution_count": 84,
      "metadata": {
        "id": "EzNfTPQgr3ye",
        "vscode": {
          "languageId": "r"
        },
        "outputId": "c9798f09-faad-49ba-b66c-c855ec64c03a",
        "colab": {
          "base_uri": "https://localhost:8080/"
        }
      },
      "outputs": [
        {
          "output_type": "stream",
          "name": "stderr",
          "text": [
            "\u001b[1m\u001b[22m`summarise()` has grouped output by 'year', 'month'. You can override using the\n",
            "`.groups` argument.\n"
          ]
        },
        {
          "output_type": "stream",
          "name": "stdout",
          "text": [
            "\u001b[90m# A tibble: 7 × 4\u001b[39m\n",
            "\u001b[90m# Groups:   year, month [1]\u001b[39m\n",
            "   year month   day prop_miss_dep_time\n",
            "  \u001b[3m\u001b[90m<int>\u001b[39m\u001b[23m \u001b[3m\u001b[90m<int>\u001b[39m\u001b[23m \u001b[3m\u001b[90m<int>\u001b[39m\u001b[23m              \u001b[3m\u001b[90m<dbl>\u001b[39m\u001b[23m\n",
            "\u001b[90m1\u001b[39m  \u001b[4m2\u001b[24m013     2     5              0.982\n",
            "\u001b[90m2\u001b[39m  \u001b[4m2\u001b[24m013     2     6              0.991\n",
            "\u001b[90m3\u001b[39m  \u001b[4m2\u001b[24m013     2     7              0.996\n",
            "\u001b[90m4\u001b[39m  \u001b[4m2\u001b[24m013     2     8              0.492\n",
            "\u001b[90m5\u001b[39m  \u001b[4m2\u001b[24m013     2     9              0.425\n",
            "\u001b[90m6\u001b[39m  \u001b[4m2\u001b[24m013     2    10              0.969\n",
            "\u001b[90m7\u001b[39m  \u001b[4m2\u001b[24m013     2    11              0.921\n"
          ]
        }
      ],
      "source": [
        "# Your solution here\n",
        "\n",
        "\n",
        "table1b <- \n",
        "  flights_week|>\n",
        "    filter(week == 6)|>\n",
        "    group_by(year, month, day)|>\n",
        "    summarize(prop_miss_dep_time = sum(!is.na(dep_delay))/n())|>print()\n",
        "    \n",
        "    \n",
        "     \n",
        "   "
      ]
    },
    {
      "cell_type": "markdown",
      "metadata": {
        "deletable": false,
        "editable": false,
        "id": "9PDpOEuvr3ye",
        "run_control": {
          "frozen": true
        }
      },
      "source": [
        "**(c)** 2 days in `table1b` should jump out at you. What you're discovering from the data is the [North American Blizzard of 2013](https://en.wikipedia.org/wiki/February_2013_North_American_blizzard). Many flights were cancelled due to extreme weather conditions. Identify the proportion of cancelled flights out of LaGuardia Airport (LGA) during the days that jumped out at you for each airline carrier in descending order. *1 point*"
      ]
    },
    {
      "cell_type": "code",
      "execution_count": 89,
      "metadata": {
        "id": "lZsmOBdMr3yf",
        "vscode": {
          "languageId": "r"
        },
        "outputId": "3c6300ec-3036-423a-d308-72e31a1dba4a",
        "colab": {
          "base_uri": "https://localhost:8080/"
        }
      },
      "outputs": [
        {
          "output_type": "stream",
          "name": "stdout",
          "text": [
            "\u001b[90m# A tibble: 12 × 2\u001b[39m\n",
            "   carrier cancelled\n",
            "   \u001b[3m\u001b[90m<chr>\u001b[39m\u001b[23m       \u001b[3m\u001b[90m<dbl>\u001b[39m\u001b[23m\n",
            "\u001b[90m 1\u001b[39m YV          1    \n",
            "\u001b[90m 2\u001b[39m 9E          0.667\n",
            "\u001b[90m 3\u001b[39m DL          0.612\n",
            "\u001b[90m 4\u001b[39m MQ          0.6  \n",
            "\u001b[90m 5\u001b[39m UA          0.562\n",
            "\u001b[90m 6\u001b[39m US          0.559\n",
            "\u001b[90m 7\u001b[39m FL          0.524\n",
            "\u001b[90m 8\u001b[39m B6          0.5  \n",
            "\u001b[90m 9\u001b[39m EV          0.5  \n",
            "\u001b[90m10\u001b[39m F9          0.5  \n",
            "\u001b[90m11\u001b[39m WN          0.444\n",
            "\u001b[90m12\u001b[39m AA          0.431\n"
          ]
        }
      ],
      "source": [
        "# Your solution here\n",
        "\n",
        "flights_week|>\n",
        "  filter(year == 2013, month == 2, day %in% c(8,9), origin == 'LGA')|>\n",
        "  group_by(carrier)|>\n",
        "  summarize(cancelled = sum(is.na(dep_delay))/n())|>\n",
        "  arrange(desc(cancelled))|>\n",
        "  print()\n",
        " \n",
        "\n"
      ]
    },
    {
      "cell_type": "markdown",
      "metadata": {
        "deletable": false,
        "editable": false,
        "id": "yHugOItnr3yf",
        "run_control": {
          "frozen": true
        }
      },
      "source": [
        "**(d)** In your own words, summarize your findings from the previous exercises. Most importantly, comment on which airlines were the most and least cautious in terms of flight cancellations. Can you think of any reason why this might be? *1 point*"
      ]
    },
    {
      "cell_type": "markdown",
      "source": [],
      "metadata": {
        "id": "k1xdsPTO3KDz"
      }
    },
    {
      "cell_type": "markdown",
      "metadata": {
        "deletable": false,
        "editable": false,
        "id": "pZUVh_a9r3yf",
        "run_control": {
          "frozen": true
        }
      },
      "source": [
        "## Problem 2: Graduate school admissions (4 points)\n",
        "This problem studies a built-in dataset called `UCBAdmissions`. It contains graduate school admissions data from 1973 for six departments at UC Berkeley:"
      ]
    },
    {
      "cell_type": "code",
      "execution_count": 65,
      "metadata": {
        "deletable": false,
        "editable": false,
        "id": "Y1n4YDQ8r3yg",
        "vscode": {
          "languageId": "r"
        },
        "outputId": "0e80688a-264e-49e8-b21b-efb6946f11bc",
        "colab": {
          "base_uri": "https://localhost:8080/"
        }
      },
      "outputs": [
        {
          "output_type": "stream",
          "name": "stdout",
          "text": [
            "\u001b[90m# A tibble: 24 × 4\u001b[39m\n",
            "   Admit    Gender Dept      n\n",
            "   \u001b[3m\u001b[90m<chr>\u001b[39m\u001b[23m    \u001b[3m\u001b[90m<chr>\u001b[39m\u001b[23m  \u001b[3m\u001b[90m<chr>\u001b[39m\u001b[23m \u001b[3m\u001b[90m<dbl>\u001b[39m\u001b[23m\n",
            "\u001b[90m 1\u001b[39m Admitted Male   A       512\n",
            "\u001b[90m 2\u001b[39m Rejected Male   A       313\n",
            "\u001b[90m 3\u001b[39m Admitted Female A        89\n",
            "\u001b[90m 4\u001b[39m Rejected Female A        19\n",
            "\u001b[90m 5\u001b[39m Admitted Male   B       353\n",
            "\u001b[90m 6\u001b[39m Rejected Male   B       207\n",
            "\u001b[90m 7\u001b[39m Admitted Female B        17\n",
            "\u001b[90m 8\u001b[39m Rejected Female B         8\n",
            "\u001b[90m 9\u001b[39m Admitted Male   C       120\n",
            "\u001b[90m10\u001b[39m Rejected Male   C       205\n",
            "\u001b[90m# … with 14 more rows\u001b[39m\n"
          ]
        }
      ],
      "source": [
        "data(UCBAdmissions)\n",
        "ucb <- as_tibble(UCBAdmissions) %>% print"
      ]
    },
    {
      "cell_type": "markdown",
      "metadata": {
        "deletable": false,
        "editable": false,
        "id": "1-vvEj5zr3yg",
        "run_control": {
          "frozen": true
        }
      },
      "source": [
        "(For privacy reasons the names of the departments have been changed to `A`, `B`, ... , `F`.)"
      ]
    },
    {
      "cell_type": "markdown",
      "metadata": {
        "deletable": false,
        "editable": false,
        "id": "FW-zL6O4r3yg",
        "run_control": {
          "frozen": true
        }
      },
      "source": [
        "# **(a)**\n",
        "Using the tool we learned for summarizing and manipulating tidy data, create a summary table from `ucb` which shows the acceptance rate by gender. Your table should have 5 columns: `Department`, `Gender`, `Admitted`, `Rejected`, and `Proportion Admitted`. Store it in a variable called `table3a`. *1 point*\n",
        "\n",
        "<table>\n",
        "<thead><tr><th scope=\"col\">Department</th><th scope=\"col\">Gender</th><th scope=\"col\">Admitted</th><th scope=\"col\">Rejected</th><th scope=\"col\">Proportion_Admitted</th></tr></thead>\n",
        "<tbody>\n",
        "\t<tr><td>A</td> <td>Female   </td><td> &dash;     </td><td>&dash;     </td><td>&dash;</td></tr>\n",
        "\t<tr><td>A</td> <td>Male   </td><td> &dash;     </td><td>&dash;     </td><td>&dash;</td></tr>\n",
        "\t\t<tr><td>B</td> <td>Female   </td><td> &dash;     </td><td>&dash;     </td><td>&dash;</td></tr>\n",
        "\t\t\t<tr><td>B</td> <td>Male   </td><td> &dash;     </td><td>&dash;     </td><td>&dash;</td></tr>\n",
        "\t\t\t\t<tr><td>C</td> <td>Female   </td><td> &dash;     </td><td>&dash;     </td><td>&dash;</td></tr>\n",
        "\t\t\t\t\t<tr><td>C</td> <td>Male   </td><td> &dash;     </td><td>&dash;     </td><td>&dash;</td></tr>\n",
        "\t\t\t\t\t\t<tr><td>D</td> <td>Female   </td><td> &dash;     </td><td>&dash;     </td><td>&dash;</td></tr>\n",
        "\t\t\t\t\t\t\t<tr><td>D</td> <td>Male   </td><td> &dash;     </td><td>&dash;     </td><td>&dash;</td></tr>\n",
        "\t\t\t\t\t\t\t\t<tr><td>E</td> <td>Female   </td><td> &dash;     </td><td>&dash;     </td><td>&dash;</td></tr> \t<tr><td>E</td> <td>Male   </td><td> &dash;     </td><td>&dash;     </td><td>&dash;</td></tr> \t<tr><td>F</td> <td>Female   </td><td> &dash;     </td><td>&dash;     </td><td>&dash;</td></tr> \t<tr><td>F</td> <td>Male   </td><td> &dash;     </td><td>&dash;     </td><td>&dash;</td></tr>\n",
        "</tbody>\n",
        "</table>\n",
        "\n",
        "(A few entries have been provided for you; your job is to write code that will produce the complete table with no blanks.)"
      ]
    },
    {
      "cell_type": "code",
      "execution_count": 66,
      "metadata": {
        "id": "-lcDg4LA8zoc",
        "vscode": {
          "languageId": "r"
        },
        "outputId": "fd5a92d5-e82a-423c-de40-e0e0c3c6a0d1",
        "colab": {
          "base_uri": "https://localhost:8080/"
        }
      },
      "outputs": [
        {
          "output_type": "stream",
          "name": "stdout",
          "text": [
            "\u001b[90m# A tibble: 12 × 5\u001b[39m\n",
            "   Gender Dept  Admitted Rejected Proportion_Admitted\n",
            "   \u001b[3m\u001b[90m<chr>\u001b[39m\u001b[23m  \u001b[3m\u001b[90m<chr>\u001b[39m\u001b[23m    \u001b[3m\u001b[90m<dbl>\u001b[39m\u001b[23m    \u001b[3m\u001b[90m<dbl>\u001b[39m\u001b[23m               \u001b[3m\u001b[90m<dbl>\u001b[39m\u001b[23m\n",
            "\u001b[90m 1\u001b[39m Male   A          512      313              0.621 \n",
            "\u001b[90m 2\u001b[39m Female A           89       19              0.824 \n",
            "\u001b[90m 3\u001b[39m Male   B          353      207              0.630 \n",
            "\u001b[90m 4\u001b[39m Female B           17        8              0.68  \n",
            "\u001b[90m 5\u001b[39m Male   C          120      205              0.369 \n",
            "\u001b[90m 6\u001b[39m Female C          202      391              0.341 \n",
            "\u001b[90m 7\u001b[39m Male   D          138      279              0.331 \n",
            "\u001b[90m 8\u001b[39m Female D          131      244              0.349 \n",
            "\u001b[90m 9\u001b[39m Male   E           53      138              0.277 \n",
            "\u001b[90m10\u001b[39m Female E           94      299              0.239 \n",
            "\u001b[90m11\u001b[39m Male   F           22      351              0.059\u001b[4m0\u001b[24m\n",
            "\u001b[90m12\u001b[39m Female F           24      317              0.070\u001b[4m4\u001b[24m\n"
          ]
        }
      ],
      "source": [
        "# Your solution here\n",
        "\n",
        "table3a<-ucb|>pivot_wider( names_from = Admit, values_from = n)|>\n",
        "  mutate(Proportion_Admitted = Admitted/(Admitted+Rejected))|>\n",
        "  print()\n",
        "  "
      ]
    },
    {
      "cell_type": "markdown",
      "metadata": {
        "deletable": false,
        "editable": false,
        "id": "nLmq3MuWr3yg",
        "run_control": {
          "frozen": true
        }
      },
      "source": [
        "**(b)**\n",
        "In STATS 250 you [learned](https://www.youtube.com/watch?v=6gfMhsWmnwk) how to test for differences in proportions between two populations. Apply this to part (a) `table3a`. Was the overall proportion of men admitted statistically different from that of women? Perform an appropriate test and interpret your findings. What do these result suggest about admissions practices at UC Berkeley in the early 1970s? *1 point*\n",
        "\n",
        "(Hint: use the `prop.test()` function.)"
      ]
    },
    {
      "cell_type": "code",
      "execution_count": null,
      "metadata": {
        "id": "saP5JKhjen2O",
        "vscode": {
          "languageId": "r"
        }
      },
      "outputs": [],
      "source": [
        "# You solution here\n",
        "\n"
      ]
    },
    {
      "cell_type": "markdown",
      "metadata": {
        "deletable": false,
        "editable": false,
        "id": "MqYcugDnr3yg",
        "run_control": {
          "frozen": true
        }
      },
      "source": [
        "**(c)**\n",
        "Reproduce the table from Problem 1, but now stratify by department. \n",
        "Compute the male and female acceptance proportion for each department separately. *1 point*\n",
        "\n",
        "Your resulting table should look like:\n",
        "\n",
        "\n",
        "<table>\n",
        "<thead><tr><th scope=\"col\">Dept</th><th scope=\"col\">Female_Admitted</th><th scope=\"col\">Female_Rejected</th><th scope=\"col\">Male_Admitted</th><th scope=\"col\">Male_Rejected</th><th scope=\"col\">Male_Proportion_Admitted</th><th scope=\"col\">Female_Proportion_Admitted</th></tr></thead>\n",
        "<tbody>\n",
        "\t<tr><td>A         </td><td> 89      </td><td> &dash;       </td><td>&dash;       </td><td>&dash;       </td><td>&dash;</td><td>&dash;</td></tr>\n",
        "\t<tr><td>B         </td><td> &dash;       </td><td>  &dash;       </td><td>353</td><td>&dash;       </td><td>&dash;</td><td>&dash;</td></tr>\n",
        "\t<tr><td>C         </td><td> &dash;       </td><td>  391\t     </td><td>&dash;</td><td>&dash;       </td><td>&dash;</td><td>&dash;</td></tr>\n",
        "\t<tr><td>D         </td><td> &dash;       </td><td>  &dash;       </td><td>&dash;</td><td>&dash;       </td><td>0.33093525\t</td><td>&dash;</td></tr>\n",
        "\t<tr><td>E         </td><td> &dash;       </td><td>  &dash;       </td><td>&dash;</td><td>138       </td><td>&dash;</td><td>&dash;</td></tr>\n",
        " \t<tr><td>F         </td><td> &dash;       </td><td>  &dash;       </td><td>&dash;</td><td>&dash;       </td><td>&dash;</td><td>0.07038123</td></tr>\n",
        "\n",
        "</tbody>\n",
        "</table>\n",
        "\n",
        "(Again, a few table entries have been provided to help you check your work, and it is your job to provide code that computes the entire table automatically.)"
      ]
    },
    {
      "cell_type": "code",
      "execution_count": null,
      "metadata": {
        "id": "p7jNvKIS8qvl",
        "vscode": {
          "languageId": "r"
        }
      },
      "outputs": [],
      "source": [
        "# Your solution here"
      ]
    },
    {
      "cell_type": "markdown",
      "metadata": {
        "deletable": false,
        "editable": false,
        "id": "m2oat3gEr3yg",
        "run_control": {
          "frozen": true
        }
      },
      "source": [
        "**(d)**\n",
        "Do the department-level findings in part (c) agree or disagree with what you concluded in part (b)? Which departments agree with your conclusion in part (b) and which disagree? **Explain with numerical evidence for full credit.** *1 point*"
      ]
    },
    {
      "cell_type": "code",
      "execution_count": null,
      "metadata": {
        "id": "UTDgV_Lkmuh2"
      },
      "outputs": [],
      "source": [
        "# Your solution here"
      ]
    },
    {
      "cell_type": "markdown",
      "metadata": {
        "deletable": false,
        "editable": false,
        "id": "Bhxx8GT5r3yh",
        "nbgrader": {
          "grade": false,
          "grade_id": "cell-9ea1f017dd33edff",
          "locked": true,
          "schema_version": 3,
          "solution": false
        },
        "run_control": {
          "frozen": true
        }
      },
      "source": [
        "## Problem 3: Popular Baby Names of the Decade (2 points)\n",
        "Recall from lecture the `babynames` dataset that contains a lot of information about frequency of baby names over time."
      ]
    },
    {
      "cell_type": "code",
      "execution_count": 90,
      "metadata": {
        "deletable": false,
        "editable": false,
        "id": "PNuX11rkr3yh",
        "vscode": {
          "languageId": "r"
        },
        "outputId": "aadd5045-009a-4739-9269-0281b4915e1c",
        "colab": {
          "base_uri": "https://localhost:8080/"
        }
      },
      "outputs": [
        {
          "output_type": "stream",
          "name": "stderr",
          "text": [
            "Installing package into ‘/usr/local/lib/R/site-library’\n",
            "(as ‘lib’ is unspecified)\n",
            "\n"
          ]
        }
      ],
      "source": [
        "install.packages(\"babynames\")\n",
        "library(babynames)"
      ]
    },
    {
      "cell_type": "markdown",
      "metadata": {
        "deletable": false,
        "editable": false,
        "id": "V933LtNUr3yh",
        "run_control": {
          "frozen": true
        }
      },
      "source": [
        "**(a)** Generate a table that has **decade** on the vertical axis, and the most popular male **and** female name of each decade. A decade will be definied by the years ___0 - ___9. So for example, 1880-1889 is a decade followed by 1890-1899, etc. *1 point*\n",
        "\n",
        "Hint: The `cut()` function can be used to \"discretize\" a continuous variable by placing each continuous observation into a bin. For example:"
      ]
    },
    {
      "cell_type": "code",
      "execution_count": null,
      "metadata": {
        "deletable": false,
        "editable": false,
        "id": "hzeKRODBmuh3"
      },
      "outputs": [],
      "source": [
        "v = 1:10  # vector of the numbers 1 through 10\n",
        "cut(v, breaks=c(0, 5, 10))"
      ]
    },
    {
      "cell_type": "markdown",
      "metadata": {
        "deletable": false,
        "editable": false,
        "run_control": {
          "frozen": true
        },
        "id": "XuBsut-gmuh3"
      },
      "source": [
        "converts the vector $v=(1, \\dots, 10)$ into a *factor* (discrete variable) that has two levels: $(0,5]$ and $(5, 10]$."
      ]
    },
    {
      "cell_type": "code",
      "execution_count": null,
      "metadata": {
        "id": "ABjgFN7UcE_F",
        "vscode": {
          "languageId": "r"
        }
      },
      "outputs": [],
      "source": [
        "# Your solution here"
      ]
    },
    {
      "cell_type": "markdown",
      "metadata": {
        "id": "eN-86xfOr3yh"
      },
      "source": [
        "**(b)** Do any names appear more than once? Write code that converts the table from part (a) into a dataframe with all the names that show up more than once. **Manual answers will not receive credit. Your code should automatically convert the table to a new one showing the duplicated names.** *1 point*"
      ]
    },
    {
      "cell_type": "code",
      "execution_count": null,
      "metadata": {
        "id": "-UQqqY-7cIPc",
        "vscode": {
          "languageId": "r"
        }
      },
      "outputs": [],
      "source": [
        "# Your solution here"
      ]
    }
  ],
  "metadata": {
    "celltoolbar": "Create Assignment",
    "colab": {
      "provenance": []
    },
    "kernelspec": {
      "display_name": "R",
      "language": "R",
      "name": "ir"
    },
    "language_info": {
      "codemirror_mode": "r",
      "file_extension": ".r",
      "mimetype": "text/x-r-source",
      "name": "R",
      "pygments_lexer": "r",
      "version": "4.2.1"
    }
  },
  "nbformat": 4,
  "nbformat_minor": 0
}